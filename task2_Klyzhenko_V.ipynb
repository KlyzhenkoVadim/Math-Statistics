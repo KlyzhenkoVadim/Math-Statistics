{
 "cells": [
  {
   "cell_type": "markdown",
   "metadata": {},
   "source": [
    "# <a href=\"https://mipt-stats.gitlab.io/courses/ad_mipt.html\">Phystech@DataScience</a>\n",
    "## Задание 2\n",
    "\n",
    "**Правила:**\n",
    "\n",
    "* Выполненную работу нужно отправить телеграм-боту `@miptstats_pds_bot`.\n",
    "* Дедлайн **26 февраля в 22:00**. После дедлайна работы не принимаются кроме случаев наличия уважительной причины.\n",
    "* Прислать нужно ноутбук в формате `ipynb`.\n",
    "* Решения, размещенные на каких-либо интернет-ресурсах не принимаются. Публикация решения может быть приравнена к предоставлении возможности списать.\n",
    "* Для выполнения задания используйте этот ноутбук в качестве основы, ничего не удаляя из него.\n",
    "\n",
    "-----"
   ]
  },
  {
   "cell_type": "code",
   "execution_count": 972,
   "metadata": {
    "id": "y9F9cOSRkh3_"
   },
   "outputs": [],
   "source": [
    "import numpy as np\n",
    "import scipy.stats as sps\n",
    "import pandas as pd\n",
    "\n",
    "from sklearn.datasets import load_diabetes\n",
    "from sklearn.model_selection import train_test_split\n",
    "from sklearn.datasets import make_blobs\n",
    "from sklearn import preprocessing\n",
    "\n",
    "from sklearn.linear_model import LinearRegression\n",
    "from sklearn.neighbors import KNeighborsClassifier\n",
    "\n",
    "import matplotlib.pyplot as plt\n",
    "import seaborn as sns\n",
    "sns.set(font_scale=1.3)\n",
    "\n",
    "import warnings\n",
    "warnings.filterwarnings('ignore')"
   ]
  },
  {
   "cell_type": "markdown",
   "metadata": {
    "id": "9tUvzn2cj31C"
   },
   "source": [
    "## Задача 1.\n",
    "\n",
    "Рассмотрим данные исследования 2004 года о зависимости риска развития диабета от пола, возраста, индекса массы тела, среднего кровяного давления и других показателей. \n",
    "\n",
    "Функция `sklearn.datasets.load_diabetes()` возвращает словарь. В поле `data` записана матрица регрессоров, в которой данные предварительно центрированы и нормированы. В поле `target` записана мера прогрессирования заболевания в течении года. В поле `DESCR` можно прочитать подробнее о данных."
   ]
  },
  {
   "cell_type": "markdown",
   "metadata": {
    "id": "w5gc2rJNj31I"
   },
   "source": [
    "### Загрузка данных"
   ]
  },
  {
   "cell_type": "code",
   "execution_count": 973,
   "metadata": {
    "id": "b6QhMHdJk0ro"
   },
   "outputs": [],
   "source": [
    "data = load_diabetes()"
   ]
  },
  {
   "cell_type": "markdown",
   "metadata": {
    "id": "FuPQNa2qkyxi"
   },
   "source": [
    "Посмотрим на описание датасета."
   ]
  },
  {
   "cell_type": "code",
   "execution_count": 974,
   "metadata": {
    "colab": {
     "base_uri": "https://localhost:8080/"
    },
    "id": "tqFH1K8Jj31J",
    "outputId": "699a32c1-613a-4e1c-f0b6-0fdb9b79caf6"
   },
   "outputs": [
    {
     "name": "stdout",
     "output_type": "stream",
     "text": [
      ".. _diabetes_dataset:\n",
      "\n",
      "Diabetes dataset\n",
      "----------------\n",
      "\n",
      "Ten baseline variables, age, sex, body mass index, average blood\n",
      "pressure, and six blood serum measurements were obtained for each of n =\n",
      "442 diabetes patients, as well as the response of interest, a\n",
      "quantitative measure of disease progression one year after baseline.\n",
      "\n",
      "**Data Set Characteristics:**\n",
      "\n",
      "  :Number of Instances: 442\n",
      "\n",
      "  :Number of Attributes: First 10 columns are numeric predictive values\n",
      "\n",
      "  :Target: Column 11 is a quantitative measure of disease progression one year after baseline\n",
      "\n",
      "  :Attribute Information:\n",
      "      - age     age in years\n",
      "      - sex\n",
      "      - bmi     body mass index\n",
      "      - bp      average blood pressure\n",
      "      - s1      tc, T-Cells (a type of white blood cells)\n",
      "      - s2      ldl, low-density lipoproteins\n",
      "      - s3      hdl, high-density lipoproteins\n",
      "      - s4      tch, thyroid stimulating hormone\n",
      "      - s5      ltg, lamotrigine\n",
      "      - s6      glu, blood sugar level\n",
      "\n",
      "Note: Each of these 10 feature variables have been mean centered and scaled by the standard deviation times `n_samples` (i.e. the sum of squares of each column totals 1).\n",
      "\n",
      "Source URL:\n",
      "https://www4.stat.ncsu.edu/~boos/var.select/diabetes.html\n",
      "\n",
      "For more information see:\n",
      "Bradley Efron, Trevor Hastie, Iain Johnstone and Robert Tibshirani (2004) \"Least Angle Regression,\" Annals of Statistics (with discussion), 407-499.\n",
      "(https://web.stanford.edu/~hastie/Papers/LARS/LeastAngle_2002.pdf)\n"
     ]
    }
   ],
   "source": [
    "print(data['DESCR'])"
   ]
  },
  {
   "cell_type": "markdown",
   "metadata": {
    "id": "vkYw4mddj31K"
   },
   "source": [
    "Поле `data` содержит матрицу размера 442 $\\times$ 10, где 442 — количество пациентов, а 10 — количество признаков (возраст, пол, и т.д.). \n",
    "Строки матрицы соответствуют пациентам, столбцы — признакам."
   ]
  },
  {
   "cell_type": "code",
   "execution_count": 975,
   "metadata": {
    "colab": {
     "base_uri": "https://localhost:8080/"
    },
    "id": "_y9bUW6Pj31K",
    "outputId": "2dd98a64-5bfa-498e-8b22-29d35234cb85",
    "scrolled": true
   },
   "outputs": [
    {
     "data": {
      "text/plain": [
       "(442, 10)"
      ]
     },
     "execution_count": 975,
     "metadata": {},
     "output_type": "execute_result"
    }
   ],
   "source": [
    "data['data'].shape"
   ]
  },
  {
   "cell_type": "markdown",
   "metadata": {
    "id": "gs9ZtWmhj31K"
   },
   "source": [
    "Целевая переменная $-$ мера прогрессирования заболевания в течении года.\n"
   ]
  },
  {
   "cell_type": "code",
   "execution_count": 976,
   "metadata": {
    "colab": {
     "base_uri": "https://localhost:8080/"
    },
    "id": "UkcxB5GAj31L",
    "outputId": "594f34f4-c4aa-4756-866b-95a25144b022"
   },
   "outputs": [
    {
     "data": {
      "text/plain": [
       "(442,)"
      ]
     },
     "execution_count": 976,
     "metadata": {},
     "output_type": "execute_result"
    }
   ],
   "source": [
    "data['target'].shape"
   ]
  },
  {
   "cell_type": "markdown",
   "metadata": {
    "id": "XaklAuUDj31L"
   },
   "source": [
    "Создайте матрицу регрессоров $X$ и столбец наблюдений $y$."
   ]
  },
  {
   "cell_type": "code",
   "execution_count": 977,
   "metadata": {
    "id": "klYxszn-j31L"
   },
   "outputs": [],
   "source": [
    "X=data['data']\n",
    "y = data['target'].reshape(-1,1)"
   ]
  },
  {
   "cell_type": "markdown",
   "metadata": {
    "id": "CZRXHc0-j31L"
   },
   "source": [
    "### Обучение моделей\n",
    "\n",
    "Разбейте данные случайно на две части — обучающую и тестовую в соотношении 80:20.\n",
    "\n",
    "Если что-то забыли или что-то не понятно, можно почитать справку:"
   ]
  },
  {
   "cell_type": "code",
   "execution_count": 978,
   "metadata": {
    "id": "W480aZfXj31M"
   },
   "outputs": [],
   "source": [
    "train_test_split?"
   ]
  },
  {
   "cell_type": "code",
   "execution_count": 979,
   "metadata": {
    "id": "BUf0Wl9uj31M"
   },
   "outputs": [
    {
     "name": "stdout",
     "output_type": "stream",
     "text": [
      "(353, 10) (89, 10) (353, 1) (89, 1)\n"
     ]
    }
   ],
   "source": [
    "X_train, X_test, y_train, y_test = train_test_split(X,y,test_size=0.2)\n",
    "print(X_train.shape, X_test.shape, y_train.shape, y_test.shape)"
   ]
  },
  {
   "cell_type": "markdown",
   "metadata": {
    "id": "L8f5Sw7Aj31M"
   },
   "source": [
    "Заведите модель линейной регрессии из `sklearn` и обучите ее по обучающей части данных."
   ]
  },
  {
   "cell_type": "code",
   "execution_count": 980,
   "metadata": {
    "id": "vn0JJh6Tj31M"
   },
   "outputs": [],
   "source": [
    "model = LinearRegression(fit_intercept=True)\n",
    "model=model.fit(X_train,y_train)"
   ]
  },
  {
   "cell_type": "markdown",
   "metadata": {
    "id": "unlbAxTYj31N"
   },
   "source": [
    "Выведите кооэффициенты модели, включая свободный член."
   ]
  },
  {
   "cell_type": "code",
   "execution_count": 981,
   "metadata": {
    "id": "_JP9ZiDpj31N"
   },
   "outputs": [
    {
     "data": {
      "text/plain": [
       "array([[ -19.8422156 , -176.84415607,  526.69790202,  311.44450631,\n",
       "        -752.94356905,  427.82009462,  140.98486337,  211.43977815,\n",
       "         756.61131441,   87.92091834]])"
      ]
     },
     "execution_count": 981,
     "metadata": {},
     "output_type": "execute_result"
    }
   ],
   "source": [
    "model.coef_\n"
   ]
  },
  {
   "cell_type": "code",
   "execution_count": 982,
   "metadata": {},
   "outputs": [
    {
     "data": {
      "text/plain": [
       "array([151.11051302])"
      ]
     },
     "execution_count": 982,
     "metadata": {},
     "output_type": "execute_result"
    }
   ],
   "source": [
    "model.intercept_"
   ]
  },
  {
   "cell_type": "markdown",
   "metadata": {
    "id": "ZMj2MTgdj31N"
   },
   "source": [
    "Посчитайте предсказания построенной модели на тестовой выборке"
   ]
  },
  {
   "cell_type": "code",
   "execution_count": 983,
   "metadata": {
    "id": "4WB74enfj31O"
   },
   "outputs": [],
   "source": [
    "y_pred = model.predict(X_test)\n",
    "n=y_pred.shape[0]"
   ]
  },
  {
   "cell_type": "markdown",
   "metadata": {
    "id": "wDTfApjPWPrr"
   },
   "source": [
    "Реализуйте метрики MSE, MAE, MAPE без использования `sklearn` и других готовых реализаций."
   ]
  },
  {
   "cell_type": "code",
   "execution_count": 984,
   "metadata": {
    "id": "yAY5KO-jWU6S"
   },
   "outputs": [],
   "source": [
    "def mean_squared_error(y_true, y_pred) :\n",
    "    n = y_pred.shape[0]\n",
    "    mse = 1/n*np.sum((y_true-y_pred)**2)\n",
    "    return mse\n",
    "def mean_absolute_error(y_true, y_pred):\n",
    "    n = y_pred.shape[0]\n",
    "    mae = 1/n*np.sum(abs(y_true-y_pred))\n",
    "    return mae\n",
    "def mean_absolute_percentage_error(y_true, y_pred):\n",
    "    n = y_pred.shape[0]\n",
    "    mape = 1/n*np.sum(abs((y_true-y_pred)/y_pred)*100)\n",
    "    return mape"
   ]
  },
  {
   "cell_type": "code",
   "execution_count": 985,
   "metadata": {},
   "outputs": [
    {
     "data": {
      "text/plain": [
       "1.0003896667429566"
      ]
     },
     "execution_count": 985,
     "metadata": {},
     "output_type": "execute_result"
    }
   ],
   "source": [
    "data=sps.expon.rvs(size=10111111)\n",
    "mean_absolute_error([0],data)"
   ]
  },
  {
   "cell_type": "markdown",
   "metadata": {
    "id": "VJfAkTn4j31O"
   },
   "source": [
    "Посчитайте MSE, MAE, MAPE на тестовой выборке и выведите с точностью до трех знаков после запятой."
   ]
  },
  {
   "cell_type": "code",
   "execution_count": 986,
   "metadata": {
    "id": "JkatiS-2j31O"
   },
   "outputs": [
    {
     "name": "stdout",
     "output_type": "stream",
     "text": [
      "2790.8773719811907\n",
      "43.935129775499604\n",
      "33.551508557639785\n"
     ]
    }
   ],
   "source": [
    "    print(mean_squared_error(y_test,y_pred))\n",
    "    print(mean_absolute_error(y_test,y_pred))\n",
    "    print(mean_absolute_percentage_error(y_test,y_pred))"
   ]
  },
  {
   "cell_type": "markdown",
   "metadata": {
    "id": "ffOGMzhZj31Q"
   },
   "source": [
    "Постройте графики зависимости предсказания прогрессирования заболевания от различных признаков по отдельности. При работе с конкретным признаком полагайте значения остальных признаков равными средним значениям этих признаков на тестовой выборке.\n",
    "\n",
    "Все графики нарисуйте в одном окне.\n",
    "\n",
    "\n",
    "*Может помочь следующий код:*\n",
    "\n",
    "`\n",
    "copies = np.tile(a, k).reshape((k, -len(a))) \n",
    "` *создает $k$ копий массива `a` размера (`len(a)`, ).* \n",
    "*Размер полученной матрицы $k \\times len(a)$.*\n",
    "\n",
    "*Также рекомендуется изучить ноутбуки с занятий.*\n",
    "\n",
    "\n",
    "\n"
   ]
  },
  {
   "cell_type": "code",
   "execution_count": 987,
   "metadata": {},
   "outputs": [],
   "source": [
    "dict = ['age','sex','bmi','bp','s1' ,     \n",
    "        's2',    \n",
    "        's3'  ,    \n",
    "        's4'   ,   \n",
    "        's5'   ,   \n",
    "        's6' ,\n",
    "        ]\n"
   ]
  },
  {
   "cell_type": "code",
   "execution_count": 988,
   "metadata": {
    "scrolled": false
   },
   "outputs": [
    {
     "data": {
      "image/png": "[encoded data removed]",
      "text/plain": [
       "<Figure size 1152x648 with 1 Axes>"
      ]
     },
     "metadata": {},
     "output_type": "display_data"
    }
   ],
   "source": [
    "avg=X_test.sum(axis=0)/n\n",
    "grid= np.linspace(-0.1,0.1,89)\n",
    "avg.reshape(-1,1)\n",
    "plt.figure(figsize=(16,9))\n",
    "i=0\n",
    "for name in dict:\n",
    "    c=np.tile(avg,89).reshape(89,-10)\n",
    "    c[:,i] =X_test[:,i]\n",
    "    y_p1=model.predict(c)\n",
    "    plt.plot(c[:,i],y_p1,label=name)\n",
    "    plt.legend(ncol=4,loc='lower center')\n",
    "    plt.xlabel('$x$')\n",
    "    plt.ylabel(\"$y$ \")\n",
    "    i+=1"
   ]
  },
  {
   "cell_type": "markdown",
   "metadata": {
    "id": "MadkefHAolFy"
   },
   "source": [
    "Теперь реализуем линейную регрессию самостоятельно, используя формулы с лекции.\n",
    "Вам нужно только заполнить прочерки в методах `fit` и `predict`."
   ]
  },
  {
   "cell_type": "code",
   "execution_count": 989,
   "metadata": {},
   "outputs": [
    {
     "data": {
      "text/plain": [
       "(353, 10)"
      ]
     },
     "execution_count": 989,
     "metadata": {},
     "output_type": "execute_result"
    }
   ],
   "source": [
    "X_train.shape"
   ]
  },
  {
   "cell_type": "code",
   "execution_count": 990,
   "metadata": {
    "id": "pYxZ7sIKokot"
   },
   "outputs": [],
   "source": [
    "class MyLinearRegression:\n",
    "    \"\"\"\n",
    "    Класс, реализующий линейную регрессию c помощью МНК.\n",
    "    \"\"\"\n",
    "    \n",
    "    def __init__(self):\n",
    "        pass\n",
    "        \n",
    "    def fit(self, X, Y):\n",
    "        \"\"\"\n",
    "        Функция обучения модели. \n",
    "        \n",
    "        Предполагается модель Y = X * theta + epsilon. \n",
    "        где X --- регрессор (матрица размера n x d), \n",
    "        Y --- отклик (матрица размера n x 1),\n",
    "        epsilon-ы имеют нормальное распределение\n",
    "\n",
    "        Обратите внимание, здесь нет intercept_\n",
    "        \"\"\"\n",
    "        \n",
    "        \n",
    "        self.n = X.shape[0]\n",
    "        self.d = X.shape[1]\n",
    "        \n",
    "        self.theta = np.linalg.inv(X.T@X)@X.T@Y\n",
    "  \n",
    "        return self\n",
    "    \n",
    "        \n",
    "    def predict(self, X):\n",
    "        \"\"\"\n",
    "        Возвращает предсказание отклика на новых объектах X \n",
    "        и опционально доверительный/предсказательный интервал.\n",
    "        \n",
    "        X --- матрица объектов размера n x d\n",
    "                        \n",
    "        \"\"\"\n",
    "        epsilon = sps.norm(loc=0,scale=0.001).rvs(size=n).reshape(-1,1)\n",
    "        y_pred = X@self.theta+epsilon \n",
    "        return y_pred"
   ]
  },
  {
   "cell_type": "markdown",
   "metadata": {
    "id": "wpnJWn-gpzM7"
   },
   "source": [
    "Обучите вашу модель на данных о диабете с добавлением свободного члена.\n",
    "Распечатайте коэффициенты и сравните их с коэффициентами модели из `sklearn`."
   ]
  },
  {
   "cell_type": "code",
   "execution_count": 999,
   "metadata": {
    "id": "atvrQ4N1pSdB"
   },
   "outputs": [],
   "source": [
    "my0 = MyLinearRegression()\n",
    "my1 = MyLinearRegression()"
   ]
  },
  {
   "cell_type": "code",
   "execution_count": null,
   "metadata": {},
   "outputs": [],
   "source": []
  },
  {
   "cell_type": "code",
   "execution_count": 1000,
   "metadata": {},
   "outputs": [],
   "source": [
    "def intercept(X):\n",
    "    O=np.ones(X.shape[0]).reshape(-1,1)\n",
    "    X1=np.hstack((O,X))\n",
    "    return X1"
   ]
  },
  {
   "cell_type": "code",
   "execution_count": 1001,
   "metadata": {},
   "outputs": [],
   "source": [
    "X_i=intercept(X_train)\n",
    "my1=my1.fit(X_i,y_train)"
   ]
  },
  {
   "cell_type": "markdown",
   "metadata": {
    "id": "BfNuu7Wcq0AP"
   },
   "source": [
    "Теперь обучите модель без свободного члена."
   ]
  },
  {
   "cell_type": "code",
   "execution_count": 1002,
   "metadata": {
    "id": "cERxmrdyYIoa"
   },
   "outputs": [],
   "source": [
    "my0 = my0.fit(X_train,y_train)"
   ]
  },
  {
   "cell_type": "code",
   "execution_count": null,
   "metadata": {},
   "outputs": [],
   "source": [
    "\n"
   ]
  },
  {
   "cell_type": "code",
   "execution_count": null,
   "metadata": {},
   "outputs": [],
   "source": []
  },
  {
   "cell_type": "markdown",
   "metadata": {
    "id": "qN-iGWbzrLC3"
   },
   "source": [
    "Сравните качество моделей со свободным членом и без него на тестовой выборке."
   ]
  },
  {
   "cell_type": "code",
   "execution_count": 1003,
   "metadata": {
    "id": "fW8UvbANqm3X"
   },
   "outputs": [],
   "source": [
    "y1=my1.predict(intercept(X_test))\n",
    "y0=my0.predict(X_test)"
   ]
  },
  {
   "cell_type": "code",
   "execution_count": 1004,
   "metadata": {},
   "outputs": [
    {
     "name": "stdout",
     "output_type": "stream",
     "text": [
      "[[ 151.11051302  -19.8422156  -176.84415607  526.69790202  311.44450631\n",
      "  -752.94356905  427.82009462  140.98486337  211.43977815  756.61131441\n",
      "    87.92091834]]\n",
      "\n",
      "\n",
      "[[ -19.8422156  -176.84415607  526.69790202  311.44450631 -752.94356905\n",
      "   427.82009462  140.98486337  211.43977815  756.61131441   87.92091834]]\n",
      "\n",
      "\n",
      "\n",
      "\n",
      "[[   54.53596632   -43.40156752   508.77577581   334.36284803\n",
      "  -1504.67382542  1044.42814463   302.31041018    98.24755274\n",
      "   1043.25148041    93.80558493]]\n"
     ]
    }
   ],
   "source": [
    "print(my1.theta.reshape(1,-1))\n",
    "print('\\n')\n",
    "print(model.coef_)\n",
    "print('\\n')\n",
    "print('\\n')\n",
    "print(my0.theta.reshape(1,-1))"
   ]
  },
  {
   "cell_type": "markdown",
   "metadata": {},
   "source": [
    "1)Со свободным членом:"
   ]
  },
  {
   "cell_type": "code",
   "execution_count": 454,
   "metadata": {},
   "outputs": [
    {
     "name": "stdout",
     "output_type": "stream",
     "text": [
      "3564.071498588547\n",
      "49.18741790632544\n",
      "34.206593140136654\n"
     ]
    }
   ],
   "source": [
    "    print(mean_squared_error(y_test,y1))\n",
    "    print(mean_absolute_error(y_test,y1))\n",
    "    print(mean_absolute_percentage_error(y_test,y1))"
   ]
  },
  {
   "cell_type": "markdown",
   "metadata": {},
   "source": [
    "2)Без свободного члена:"
   ]
  },
  {
   "cell_type": "code",
   "execution_count": 455,
   "metadata": {},
   "outputs": [
    {
     "name": "stdout",
     "output_type": "stream",
     "text": [
      "30921.46907966828\n",
      "164.8513278377698\n",
      "879.6465011074092\n"
     ]
    }
   ],
   "source": [
    "    print(mean_squared_error(y_test,y0))\n",
    "    print(mean_absolute_error(y_test,y0))\n",
    "    print(mean_absolute_percentage_error(y_test,y0))"
   ]
  },
  {
   "attachments": {
    "image.png": {
     "image/png": "[encoded data removed]"
    }
   },
   "cell_type": "markdown",
   "metadata": {},
   "source": [
    "![image.png](attachment:image.png)"
   ]
  },
  {
   "cell_type": "markdown",
   "metadata": {
    "id": "TpllTM-HYN2F"
   },
   "source": [
    "**Сделайте выводы:**\n",
    "В данной задаче мы реализуем модель линейной регрессии с помощью МНК. Были построены графики зависимости отклика от конкретных признаков. На графике можем наблюдать различные коэффициенты наклона к оси Х. Это означает различный характер зависимости от признака. Было так же показано, что модель линейной регрессии без свободного члена плохо описывает приведенную зависимость."
   ]
  },
  {
   "cell_type": "markdown",
   "metadata": {
    "id": "VN5vFgAxYOyI"
   },
   "source": []
  },
  {
   "cell_type": "markdown",
   "metadata": {
    "id": "8dgLXGn8_uPw"
   },
   "source": [
    "## Задача 2.\n",
    "\n",
    "### Часть 1"
   ]
  },
  {
   "cell_type": "markdown",
   "metadata": {
    "id": "Dorqdp--te0w"
   },
   "source": [
    "Скачайте [датасет](https://www.kaggle.com/deepu1109/star-dataset) и распакуйте. Вы получите файл `6 class csv.csv`. \n",
    "Он представляет собой таблицу некоторых характеристик звезд, таких как температура, радиус и т.д..\n",
    "В описании к датасету указаны следующие типы звезд:\n",
    "* Brown Dwarf (0),\n",
    "* Red Dwarf (1),\n",
    "* White Dwarf (2),\n",
    "* Main Sequence (3),\n",
    "* Supergiant (4),\n",
    "* Hypergiant (5).\n",
    "\n",
    "На основании характеристик мы хотим классифицировать звезды по типу. \n"
   ]
  },
  {
   "cell_type": "code",
   "execution_count": 1005,
   "metadata": {
    "id": "wst4an0fgpwN"
   },
   "outputs": [
    {
     "data": {
      "text/html": [
       "<div>\n",
       "<style scoped>\n",
       "    .dataframe tbody tr th:only-of-type {\n",
       "        vertical-align: middle;\n",
       "    }\n",
       "\n",
       "    .dataframe tbody tr th {\n",
       "        vertical-align: top;\n",
       "    }\n",
       "\n",
       "    .dataframe thead th {\n",
       "        text-align: right;\n",
       "    }\n",
       "</style>\n",
       "<table border=\"1\" class=\"dataframe\">\n",
       "  <thead>\n",
       "    <tr style=\"text-align: right;\">\n",
       "      <th></th>\n",
       "      <th>Temperature (K)</th>\n",
       "      <th>Luminosity(L/Lo)</th>\n",
       "      <th>Radius(R/Ro)</th>\n",
       "      <th>Absolute magnitude(Mv)</th>\n",
       "      <th>Star type</th>\n",
       "      <th>Star color</th>\n",
       "      <th>Spectral Class</th>\n",
       "    </tr>\n",
       "  </thead>\n",
       "  <tbody>\n",
       "    <tr>\n",
       "      <th>0</th>\n",
       "      <td>3068</td>\n",
       "      <td>0.002400</td>\n",
       "      <td>0.1700</td>\n",
       "      <td>16.12</td>\n",
       "      <td>0</td>\n",
       "      <td>Red</td>\n",
       "      <td>M</td>\n",
       "    </tr>\n",
       "    <tr>\n",
       "      <th>1</th>\n",
       "      <td>3042</td>\n",
       "      <td>0.000500</td>\n",
       "      <td>0.1542</td>\n",
       "      <td>16.60</td>\n",
       "      <td>0</td>\n",
       "      <td>Red</td>\n",
       "      <td>M</td>\n",
       "    </tr>\n",
       "    <tr>\n",
       "      <th>2</th>\n",
       "      <td>2600</td>\n",
       "      <td>0.000300</td>\n",
       "      <td>0.1020</td>\n",
       "      <td>18.70</td>\n",
       "      <td>0</td>\n",
       "      <td>Red</td>\n",
       "      <td>M</td>\n",
       "    </tr>\n",
       "    <tr>\n",
       "      <th>3</th>\n",
       "      <td>2800</td>\n",
       "      <td>0.000200</td>\n",
       "      <td>0.1600</td>\n",
       "      <td>16.65</td>\n",
       "      <td>0</td>\n",
       "      <td>Red</td>\n",
       "      <td>M</td>\n",
       "    </tr>\n",
       "    <tr>\n",
       "      <th>4</th>\n",
       "      <td>1939</td>\n",
       "      <td>0.000138</td>\n",
       "      <td>0.1030</td>\n",
       "      <td>20.06</td>\n",
       "      <td>0</td>\n",
       "      <td>Red</td>\n",
       "      <td>M</td>\n",
       "    </tr>\n",
       "  </tbody>\n",
       "</table>\n",
       "</div>"
      ],
      "text/plain": [
       "   Temperature (K)  Luminosity(L/Lo)  Radius(R/Ro)  Absolute magnitude(Mv)  \\\n",
       "0             3068          0.002400        0.1700                   16.12   \n",
       "1             3042          0.000500        0.1542                   16.60   \n",
       "2             2600          0.000300        0.1020                   18.70   \n",
       "3             2800          0.000200        0.1600                   16.65   \n",
       "4             1939          0.000138        0.1030                   20.06   \n",
       "\n",
       "   Star type Star color Spectral Class  \n",
       "0          0        Red              M  \n",
       "1          0        Red              M  \n",
       "2          0        Red              M  \n",
       "3          0        Red              M  \n",
       "4          0        Red              M  "
      ]
     },
     "execution_count": 1005,
     "metadata": {},
     "output_type": "execute_result"
    }
   ],
   "source": [
    "data = pd.read_csv(\"6 class csv.csv\")\n",
    "data.head()"
   ]
  },
  {
   "cell_type": "code",
   "execution_count": 1006,
   "metadata": {
    "colab": {
     "base_uri": "https://localhost:8080/"
    },
    "id": "vSiobizjhAFq",
    "outputId": "c60a5df0-43ee-4cfb-abeb-98d7e44e8373"
   },
   "outputs": [
    {
     "data": {
      "text/plain": [
       "Index(['Temperature (K)', 'Luminosity(L/Lo)', 'Radius(R/Ro)',\n",
       "       'Absolute magnitude(Mv)', 'Star type', 'Star color', 'Spectral Class'],\n",
       "      dtype='object')"
      ]
     },
     "execution_count": 1006,
     "metadata": {},
     "output_type": "execute_result"
    }
   ],
   "source": [
    "data.columns"
   ]
  },
  {
   "cell_type": "markdown",
   "metadata": {
    "id": "tumLMSvLu2N8"
   },
   "source": [
    "Для классификации с помощью kNN будем использовать только столбцы с числовыми значениями. \n",
    "Целевая переменная (класс) находится в столбце Star type.\n",
    "\n",
    "Разделите данные на признаки $X$ и целевую переменную $y$."
   ]
  },
  {
   "cell_type": "code",
   "execution_count": 1007,
   "metadata": {
    "id": "iBkshzikg1jY"
   },
   "outputs": [],
   "source": [
    "needed_columns = [\n",
    "    'Temperature (K)', 'Luminosity(L/Lo)', 'Radius(R/Ro)', 'Absolute magnitude(Mv)'\n",
    "]\n",
    "       \n",
    "X = data[needed_columns].values\n",
    "y = data['Star type'].values"
   ]
  },
  {
   "cell_type": "markdown",
   "metadata": {
    "id": "PUQi1JmUvQ1t"
   },
   "source": [
    "Разделите данные на тренировочную и тестовую выборки, `test_size` возьмите равным 0.3."
   ]
  },
  {
   "cell_type": "code",
   "execution_count": 1008,
   "metadata": {
    "id": "AB1s7T2kgvij"
   },
   "outputs": [],
   "source": [
    "X_train, X_test, y_train, y_test = train_test_split(X, y, test_size=0.3)"
   ]
  },
  {
   "cell_type": "markdown",
   "metadata": {
    "id": "W20bDXyIvd2g"
   },
   "source": [
    "Заведите модель классификатора kNN из `sklearn`, параметр `n_neighbours` возьмите по умолчанию. Обучите модель на тренировочной выборке"
   ]
  },
  {
   "cell_type": "code",
   "execution_count": 1009,
   "metadata": {
    "id": "6hSQFsk6g0H-"
   },
   "outputs": [],
   "source": [
    "model = KNeighborsClassifier()\n",
    "model=model.fit(X_train,y_train)"
   ]
  },
  {
   "cell_type": "markdown",
   "metadata": {
    "id": "vBzXvjT_v9gj"
   },
   "source": [
    "Реализуйте метрику accuracy без использования `sklearn` и других ее готовых реализаций."
   ]
  },
  {
   "cell_type": "code",
   "execution_count": 1010,
   "metadata": {
    "id": "074p5I5awM-4"
   },
   "outputs": [],
   "source": [
    "def accuracy_score(y_true, y_pred):\n",
    "    n=len(y_true)\n",
    "    S=0\n",
    "    for i in range(n):\n",
    "        if(y_true[i]==y_pred[i]):\n",
    "            S+=1/n\n",
    "    return S"
   ]
  },
  {
   "cell_type": "markdown",
   "metadata": {
    "id": "24IyJZv5wW0o"
   },
   "source": [
    "Посчитайте метрику качества по тренировочной и тестовой выборкам и выведите эти значения с точностью 4 знака после запятой."
   ]
  },
  {
   "cell_type": "code",
   "execution_count": 1011,
   "metadata": {
    "id": "nMMsTsx3wQXK"
   },
   "outputs": [
    {
     "name": "stdout",
     "output_type": "stream",
     "text": [
      "0.5972\n"
     ]
    }
   ],
   "source": [
    "y_pred=model.predict(X_test)\n",
    "print(round(accuracy_score(y_test,y_pred),4))"
   ]
  },
  {
   "cell_type": "code",
   "execution_count": 1012,
   "metadata": {},
   "outputs": [
    {
     "name": "stdout",
     "output_type": "stream",
     "text": [
      "0.756\n"
     ]
    }
   ],
   "source": [
    "y1=model.predict(X_train)\n",
    "print(round(accuracy_score(y_train,y1),4))"
   ]
  },
  {
   "cell_type": "markdown",
   "metadata": {
    "id": "R6Ha0BaV-BIl"
   },
   "source": [
    "#### Нормализация данных"
   ]
  },
  {
   "cell_type": "markdown",
   "metadata": {
    "id": "9d-kHUvNwig1"
   },
   "source": [
    "Разные столбцы могут иметь разную величину значений. Из-за этого близость по одной координате может \"значить\" больше, чем близость по другой. Иногда разная значимость признаков может быть оправдана, но в данном случае попробуем нормализовать данные. Для этого воспользуемся  [`sklearn.preprocessing.StandardScaler()`](https://scikit-learn.org/stable/modules/generated/sklearn.preprocessing.StandardScaler.html)"
   ]
  },
  {
   "cell_type": "code",
   "execution_count": 1013,
   "metadata": {
    "id": "ry9dFRrNhTO0"
   },
   "outputs": [
    {
     "data": {
      "text/plain": [
       "(array([1.09215000e+04, 1.16393463e+05, 2.60158924e+02, 3.36059524e+00]),\n",
       " array([9.63645668e+03, 1.87800026e+05, 5.41339801e+02, 1.03030371e+01]))"
      ]
     },
     "execution_count": 1013,
     "metadata": {},
     "output_type": "execute_result"
    }
   ],
   "source": [
    "scaler = preprocessing.StandardScaler().fit(X_train)\n",
    "scaler.mean_, scaler.scale_"
   ]
  },
  {
   "cell_type": "markdown",
   "metadata": {
    "id": "97Eojr1Dxgsa"
   },
   "source": [
    "Преобразуйте даннные с помощью Scaler-a."
   ]
  },
  {
   "cell_type": "code",
   "execution_count": 1014,
   "metadata": {
    "id": "L8SVjcP1hoxu"
   },
   "outputs": [],
   "source": [
    "X_train_scaled = (X_train-scaler.mean_)/scaler.scale_\n",
    "X_test_scaled = (X_test-scaler.mean_)/scaler.scale_"
   ]
  },
  {
   "cell_type": "markdown",
   "metadata": {
    "id": "eDjf9xwqx7BN"
   },
   "source": [
    "Обучите новый классификатор kNN на преобразованных данных."
   ]
  },
  {
   "cell_type": "code",
   "execution_count": 1015,
   "metadata": {
    "id": "3K6nkwSUhwHv"
   },
   "outputs": [],
   "source": [
    "model_scaled = model.fit(X_train_scaled,y_train)"
   ]
  },
  {
   "cell_type": "markdown",
   "metadata": {
    "id": "enZuyzo-yHE6"
   },
   "source": [
    "Посчитайте метрику accuracy на тренировочной и тестовой выборке для новой модели."
   ]
  },
  {
   "cell_type": "code",
   "execution_count": 1016,
   "metadata": {
    "id": "yuSS2fcliBF0"
   },
   "outputs": [
    {
     "name": "stdout",
     "output_type": "stream",
     "text": [
      "test 0.9722222222222207\n",
      "train 0.9940476190476166\n"
     ]
    }
   ],
   "source": [
    "print('test',accuracy_score(y_test,model_scaled.predict(X_test_scaled)))\n",
    "print('train',accuracy_score(y_train,model_scaled.predict(X_train_scaled)))"
   ]
  },
  {
   "cell_type": "markdown",
   "metadata": {
    "id": "RiOhuRZTyRjG"
   },
   "source": [
    "Сделайте выводы."
   ]
  },
  {
   "cell_type": "markdown",
   "metadata": {
    "id": "dy7c3xFsyWAb"
   },
   "source": [
    "**Вывод:** После нормализации данных, мы получили высокую точность в данном методе."
   ]
  },
  {
   "cell_type": "markdown",
   "metadata": {
    "id": "LMQ094NN-JGM"
   },
   "source": [
    "#### Обучение моделей"
   ]
  },
  {
   "cell_type": "markdown",
   "metadata": {
    "id": "nRlEVtf_y7x6"
   },
   "source": [
    "Теперь посмотрим, как зависит метрика качества моделей от $k$ — количества соседей.\n",
    "Обучите модели для каждого $k$ из массива `ks`. Посчитайте метрику качества этих моделей на тренировочной и тестовой выборках. То же проделайте и для нормализованных данных."
   ]
  },
  {
   "cell_type": "code",
   "execution_count": 1017,
   "metadata": {
    "id": "KNB_UynUktWa"
   },
   "outputs": [],
   "source": [
    "ks = np.arange(1, 51, 2)  # различные значения k\n",
    "\n",
    "# Создание и обучение моделей:\n",
    "models = [KNeighborsClassifier(n_neighbors=k) for k in ks]  # массив моделей, элемент - одна модель\n",
    "models = [a.fit(X_train,y_train) for a in models]  # можете писать свой дополнительный код при необходимости, а можете не писать\n",
    "\n",
    "# Подсчет метрики качества\n",
    "\n",
    "scores = [ accuracy_score(y_test, elem.predict(X_test) ) for elem in models]  # массив значений метрик качества моделей \n",
    "                                     # из массива models на тестовой выборке, elem - одна модель\n",
    "  # можете писать свой дополнительный код\n",
    "scores_train = [accuracy_score(y_train, elem.predict(X_train) ) for elem in models]  # массив значений метрик качества на тренировочной выборке\n",
    "#<...>  # можете писать свой дополнительный код\n",
    "models_scaled = [b.fit(X_train_scaled,y_train) for b in models]\n",
    "scores_scaled = [ accuracy_score(y_test, elem.predict(X_test_scaled) ) for elem in models]\n",
    "scores_scaled_train = [ accuracy_score(y_train, elem.predict(X_train_scaled) ) for elem in models]\n",
    "#<...>\n"
   ]
  },
  {
   "cell_type": "markdown",
   "metadata": {
    "id": "piyfqfYmztya"
   },
   "source": [
    "Теперь постройте на одном графике четыре зависимости значений метрики качества от параметра $k$. Не забудьте подписать, чему какая линия соответствует, т.е. указать тренировочная или тестовая выборка, есть или нет нормализации, а также подпишите название и оси графика."
   ]
  },
  {
   "cell_type": "code",
   "execution_count": 1018,
   "metadata": {
    "id": "dOW2W4uxly9W",
    "scrolled": false
   },
   "outputs": [
    {
     "data": {
      "image/png": "[encoded data removed]",
      "text/plain": [
       "<Figure size 1152x648 with 1 Axes>"
      ]
     },
     "metadata": {},
     "output_type": "display_data"
    }
   ],
   "source": [
    "acc={'scores(test)':scores,'scores_scaled(test)':scores_scaled,\n",
    "    'scores_train':scores_train,'scores_scaled_train':scores_scaled_train}\n",
    "plt.figure(figsize=(16,9))\n",
    "for name,arr in acc.items():\n",
    "    plt.plot(ks,arr,label=name)\n",
    "    plt.legend(loc='upper right')\n",
    "    plt.xlabel('$k$')\n",
    "    plt.ylabel('$accuracy$')"
   ]
  },
  {
   "cell_type": "markdown",
   "metadata": {
    "id": "-a4MM9a-0NJC"
   },
   "source": [
    "Сделайте выводы."
   ]
  },
  {
   "cell_type": "markdown",
   "metadata": {
    "id": "h_9wnM2XmisD"
   },
   "source": [
    "**Вывод** В данной задаче реализована модель kNN для задачи классификации. Мы рассмотрели, как и от чего зависит метрика качества. Мы получили, что при нормализации метрика возрастает. Так же мы исследовали зависимость метрики качества от числа ближайших соседей. Было показано, что при увеличении числа ближайших соседей метрика качества уменьшается."
   ]
  },
  {
   "cell_type": "markdown",
   "metadata": {
    "id": "Y6LzLWnI_nI0"
   },
   "source": [
    "### Часть 2 "
   ]
  },
  {
   "cell_type": "markdown",
   "metadata": {
    "id": "JoGO5t0l0V3o"
   },
   "source": [
    "Теперь скачаем [датасет](https://www.kaggle.com/colearninglounge/predicting-pulsar-starintermediate) о предсказании пульсаров.\n",
    "\n",
    "\n",
    "\n"
   ]
  },
  {
   "cell_type": "markdown",
   "metadata": {
    "id": "Tfq3FzcfFaiC"
   },
   "source": [
    "Пульсары &mdash; это космические объекты, излучающие в различных диапазонах длины волны. Согласно современным астрофизическим теориям, пульсары представляют собой вращающиеся нейтронные звезды, обладающие магнитным полем, наклоненным относительно оси вращения.\n",
    "\n",
    "Пульсары представляют значительный научный интерес. Поэтому есть потребность в автоматическом обнаружении интересных объектов для ускорения процесса изучения. На практике почти все обнаружения вызваны радиочастотными помехами и шумом, что затрудняет поиск достоверных сигналов. В последнее время для автоматического обнаружения пульсаров начали применять машинное обучение. Актуальная задача сегодня &mdash; бинарная классификация объектов-кандидатов на предмет того, являются ли они пульсарами.\n",
    "\n",
    "В используемом датасете есть как примеры ложных обнаружений, так и примеры реальных пульсаров, подтвержденные учеными. Данные получены в результате [The High Time Resolution Universe Pulsar Survey I](https://arxiv.org/abs/1006.5744)."
   ]
  },
  {
   "cell_type": "markdown",
   "metadata": {
    "id": "l5cdwNc7FZRL"
   },
   "source": [
    "Мы будем работать только с файлом `pulsar_data_train.csv`."
   ]
  },
  {
   "cell_type": "code",
   "execution_count": 1031,
   "metadata": {
    "id": "J_usqOs3iFE9"
   },
   "outputs": [],
   "source": [
    "data = pd.read_csv(\"pulsar_data_train.csv\")"
   ]
  },
  {
   "cell_type": "markdown",
   "metadata": {
    "id": "t2OfOUUH_-4V"
   },
   "source": [
    "Сигнал от пульсаров представляет собой периодические импульсы.\n",
    "\n",
    "Для описания объекта используется integrated profile (интегральный профиль) &mdash; агрегирование сигнала за разные периоды вращения (<a target=\"_blank\" href=\"http://ipta.phys.wvu.edu/files/student-week-2017/IPTA2017_KuoLiu_pulsartiming.pdf\">ссылка</a>, слайд 11). У всех пульсаров разные интегральные профили, и обычно эта характеристика мало меняется во времени.\n",
    "В данном датасете интегральный профиль также усреднен по частоте.\n",
    "\n",
    "Кроме того, импульс приходит в разное время на разных частотах. Задержка от частоты к частоте вызвана наличием ионизированной межзвездной среды и называется дисперсией. Не путать с дисперсией в теории вероятностей.\n",
    "\n",
    "С дисперсией связана еще одна характеристика объекта &mdash; DM-SNR кривая. Подробнее об этой характеристике можно почитать <a target=\"_blank\" href=\"https://arxiv.org/pdf/1005.5068.pdf#:~:text=period-DM%20diagram%3B%20good%20agreement,pulsars%20in%20their%20candidate%20plots.)\">в специализированных материалах</a>.\n",
    "\n",
    "Обе характеристики, integrated profile и DM-SNR кривая, представляют собой одномерные функции.\n",
    "При создании датасета значения функций были посчитаны в конечном количестве $n$ точек.\n",
    "Фактически, были получены реализации выборки двух случайных величин.\n",
    "\n",
    "Пусть $P = (p_1, \\ldots p_n)$ &mdash; массив значений integrated profile.\n",
    "Для него можно посчитать следующие статистики:\n",
    "\n",
    "1.   Выборочное среднее $\\bar p = \\frac{1}{n}\\sum \\limits_{i=1}^n p_i$;\n",
    "2.   Выборочное стандартное отклонение $\\sqrt{\\frac{1}{n}\\sum \\limits_{i=1}^n (p_i - \\bar p)^2}$;\n",
    "3. Выборочный коэффициент асимметрии (skewness);\n",
    "4. Выборочный коэффициент эксцесса (kurtosis).\n",
    "\n",
    "Для $D = (d_1, \\ldots d_n)$, массива значений DM-SNR, аналогично.\n",
    "\n",
    "Именно эти значения по массивам $P$ и $D$ являются признаками в данном датасете.\n",
    "\n",
    "Про коэффициенты эксцесса и асимметрии можно посмотреть <a target=\"_blank\" href=\"https://ru.wikipedia.org/wiki/%D0%9A%D0%BE%D1%8D%D1%84%D1%84%D0%B8%D1%86%D0%B8%D0%B5%D0%BD%D1%82_%D1%8D%D0%BA%D1%81%D1%86%D0%B5%D1%81%D1%81%D0%B0\">здесь</a> и <a target=\"_blank\" href=\"https://ru.wikipedia.org/wiki/%D0%9A%D0%BE%D1%8D%D1%84%D1%84%D0%B8%D1%86%D0%B8%D0%B5%D0%BD%D1%82_%D0%B0%D1%81%D0%B8%D0%BC%D0%BC%D0%B5%D1%82%D1%80%D0%B8%D0%B8\">здесь</a>, формулы для выборочных коэффициентов асимметрии и эксцесса можно найти в английской версии этих статей.\n",
    "\n",
    "<a target=\"_blank\" href=\"https://arxiv.org/pdf/1603.05166.pdf\">Статья</a> с подробным описанием процесса генерации данных.\n",
    "\n",
    "\n",
    "\n",
    "\n",
    "\n",
    "\n",
    "\n",
    "\n"
   ]
  },
  {
   "cell_type": "code",
   "execution_count": 1032,
   "metadata": {
    "colab": {
     "base_uri": "https://localhost:8080/",
     "height": 238
    },
    "id": "40Zzx76G0xp_",
    "outputId": "69693e72-45eb-4657-a38f-8817953e2f76"
   },
   "outputs": [
    {
     "data": {
      "text/html": [
       "<div>\n",
       "<style scoped>\n",
       "    .dataframe tbody tr th:only-of-type {\n",
       "        vertical-align: middle;\n",
       "    }\n",
       "\n",
       "    .dataframe tbody tr th {\n",
       "        vertical-align: top;\n",
       "    }\n",
       "\n",
       "    .dataframe thead th {\n",
       "        text-align: right;\n",
       "    }\n",
       "</style>\n",
       "<table border=\"1\" class=\"dataframe\">\n",
       "  <thead>\n",
       "    <tr style=\"text-align: right;\">\n",
       "      <th></th>\n",
       "      <th>Mean of the integrated profile</th>\n",
       "      <th>Standard deviation of the integrated profile</th>\n",
       "      <th>Excess kurtosis of the integrated profile</th>\n",
       "      <th>Skewness of the integrated profile</th>\n",
       "      <th>Mean of the DM-SNR curve</th>\n",
       "      <th>Standard deviation of the DM-SNR curve</th>\n",
       "      <th>Excess kurtosis of the DM-SNR curve</th>\n",
       "      <th>Skewness of the DM-SNR curve</th>\n",
       "      <th>target_class</th>\n",
       "    </tr>\n",
       "  </thead>\n",
       "  <tbody>\n",
       "    <tr>\n",
       "      <th>0</th>\n",
       "      <td>121.156250</td>\n",
       "      <td>48.372971</td>\n",
       "      <td>0.375485</td>\n",
       "      <td>-0.013165</td>\n",
       "      <td>3.168896</td>\n",
       "      <td>18.399367</td>\n",
       "      <td>7.449874</td>\n",
       "      <td>65.159298</td>\n",
       "      <td>0.0</td>\n",
       "    </tr>\n",
       "    <tr>\n",
       "      <th>1</th>\n",
       "      <td>76.968750</td>\n",
       "      <td>36.175557</td>\n",
       "      <td>0.712898</td>\n",
       "      <td>3.388719</td>\n",
       "      <td>2.399666</td>\n",
       "      <td>17.570997</td>\n",
       "      <td>9.414652</td>\n",
       "      <td>102.722975</td>\n",
       "      <td>0.0</td>\n",
       "    </tr>\n",
       "    <tr>\n",
       "      <th>2</th>\n",
       "      <td>130.585938</td>\n",
       "      <td>53.229534</td>\n",
       "      <td>0.133408</td>\n",
       "      <td>-0.297242</td>\n",
       "      <td>2.743311</td>\n",
       "      <td>22.362553</td>\n",
       "      <td>8.508364</td>\n",
       "      <td>74.031324</td>\n",
       "      <td>0.0</td>\n",
       "    </tr>\n",
       "    <tr>\n",
       "      <th>3</th>\n",
       "      <td>156.398438</td>\n",
       "      <td>48.865942</td>\n",
       "      <td>-0.215989</td>\n",
       "      <td>-0.171294</td>\n",
       "      <td>17.471572</td>\n",
       "      <td>NaN</td>\n",
       "      <td>2.958066</td>\n",
       "      <td>7.197842</td>\n",
       "      <td>0.0</td>\n",
       "    </tr>\n",
       "    <tr>\n",
       "      <th>4</th>\n",
       "      <td>84.804688</td>\n",
       "      <td>36.117659</td>\n",
       "      <td>0.825013</td>\n",
       "      <td>3.274125</td>\n",
       "      <td>2.790134</td>\n",
       "      <td>20.618009</td>\n",
       "      <td>8.405008</td>\n",
       "      <td>76.291128</td>\n",
       "      <td>0.0</td>\n",
       "    </tr>\n",
       "  </tbody>\n",
       "</table>\n",
       "</div>"
      ],
      "text/plain": [
       "    Mean of the integrated profile  \\\n",
       "0                       121.156250   \n",
       "1                        76.968750   \n",
       "2                       130.585938   \n",
       "3                       156.398438   \n",
       "4                        84.804688   \n",
       "\n",
       "    Standard deviation of the integrated profile  \\\n",
       "0                                      48.372971   \n",
       "1                                      36.175557   \n",
       "2                                      53.229534   \n",
       "3                                      48.865942   \n",
       "4                                      36.117659   \n",
       "\n",
       "    Excess kurtosis of the integrated profile  \\\n",
       "0                                    0.375485   \n",
       "1                                    0.712898   \n",
       "2                                    0.133408   \n",
       "3                                   -0.215989   \n",
       "4                                    0.825013   \n",
       "\n",
       "    Skewness of the integrated profile   Mean of the DM-SNR curve  \\\n",
       "0                            -0.013165                   3.168896   \n",
       "1                             3.388719                   2.399666   \n",
       "2                            -0.297242                   2.743311   \n",
       "3                            -0.171294                  17.471572   \n",
       "4                             3.274125                   2.790134   \n",
       "\n",
       "    Standard deviation of the DM-SNR curve  \\\n",
       "0                                18.399367   \n",
       "1                                17.570997   \n",
       "2                                22.362553   \n",
       "3                                      NaN   \n",
       "4                                20.618009   \n",
       "\n",
       "    Excess kurtosis of the DM-SNR curve   Skewness of the DM-SNR curve  \\\n",
       "0                              7.449874                      65.159298   \n",
       "1                              9.414652                     102.722975   \n",
       "2                              8.508364                      74.031324   \n",
       "3                              2.958066                       7.197842   \n",
       "4                              8.405008                      76.291128   \n",
       "\n",
       "   target_class  \n",
       "0           0.0  \n",
       "1           0.0  \n",
       "2           0.0  \n",
       "3           0.0  \n",
       "4           0.0  "
      ]
     },
     "execution_count": 1032,
     "metadata": {},
     "output_type": "execute_result"
    }
   ],
   "source": [
    "data.head()"
   ]
  },
  {
   "cell_type": "code",
   "execution_count": 1033,
   "metadata": {
    "colab": {
     "base_uri": "https://localhost:8080/"
    },
    "id": "iHlrsNcR1Y5Z",
    "outputId": "9db6204b-e75d-4328-bcf5-e4d4e5b63e6b",
    "scrolled": true
   },
   "outputs": [
    {
     "name": "stdout",
     "output_type": "stream",
     "text": [
      "<class 'pandas.core.frame.DataFrame'>\n",
      "RangeIndex: 12528 entries, 0 to 12527\n",
      "Data columns (total 9 columns):\n",
      " #   Column                                         Non-Null Count  Dtype  \n",
      "---  ------                                         --------------  -----  \n",
      " 0    Mean of the integrated profile                12528 non-null  float64\n",
      " 1    Standard deviation of the integrated profile  12528 non-null  float64\n",
      " 2    Excess kurtosis of the integrated profile     10793 non-null  float64\n",
      " 3    Skewness of the integrated profile            12528 non-null  float64\n",
      " 4    Mean of the DM-SNR curve                      12528 non-null  float64\n",
      " 5    Standard deviation of the DM-SNR curve        11350 non-null  float64\n",
      " 6    Excess kurtosis of the DM-SNR curve           12528 non-null  float64\n",
      " 7    Skewness of the DM-SNR curve                  11903 non-null  float64\n",
      " 8   target_class                                   12528 non-null  float64\n",
      "dtypes: float64(9)\n",
      "memory usage: 881.0 KB\n"
     ]
    }
   ],
   "source": [
    "data.info()"
   ]
  },
  {
   "cell_type": "markdown",
   "metadata": {
    "id": "x5Wg_a4V1m_Y"
   },
   "source": [
    "В этом датасете в некоторых столбцах есть пропуски в данных. Об этом говорит то, что значение Non-Null Count в таблице выше не равно количеству строк для некоторых столбцов. Чтобы не усложнять себе жизнь, пока просто не будем брать эти столбцы для анализа.\n",
    "\n",
    "Столбец `target_class` отвечает за целевую переменную — индикатор того, является ли объект пульсаром."
   ]
  },
  {
   "cell_type": "code",
   "execution_count": 1034,
   "metadata": {
    "id": "YWW8q_2VijOI"
   },
   "outputs": [],
   "source": [
    "needed_columns = [' Mean of the integrated profile',\n",
    "       ' Standard deviation of the integrated profile',\n",
    "       ' Skewness of the integrated profile', ' Mean of the DM-SNR curve',\n",
    "       ' Excess kurtosis of the DM-SNR curve']  # используем только эти столбцы\n",
    "\n",
    "X = data[needed_columns].values"
   ]
  },
  {
   "cell_type": "code",
   "execution_count": 1035,
   "metadata": {
    "id": "_dbrJy_hil1M"
   },
   "outputs": [],
   "source": [
    "y = data['target_class'].values\n"
   ]
  },
  {
   "cell_type": "markdown",
   "metadata": {
    "id": "OshdecGI2FQE"
   },
   "source": [
    "Разделите данные на train и test, установив `test_size=0.15`."
   ]
  },
  {
   "cell_type": "code",
   "execution_count": 1036,
   "metadata": {
    "id": "Cq6u-47nkOo8"
   },
   "outputs": [
    {
     "name": "stdout",
     "output_type": "stream",
     "text": [
      "(10648, 5) (1880, 5) (10648,) (1880,)\n"
     ]
    }
   ],
   "source": [
    "X_train, X_test, y_train, y_test = train_test_split(X,y,test_size=0.15)\n",
    "print(X_train.shape, X_test.shape, y_train.shape, y_test.shape)"
   ]
  },
  {
   "cell_type": "markdown",
   "metadata": {
    "id": "hGvKSa4z35X8"
   },
   "source": [
    "Обучите стандартный классификатор kNN на тренировочных данные. Выведите значения метрик качества на тренировочной и тестовой выборках."
   ]
  },
  {
   "cell_type": "code",
   "execution_count": 1040,
   "metadata": {
    "id": "Um0kACVJEpsA"
   },
   "outputs": [
    {
     "name": "stdout",
     "output_type": "stream",
     "text": [
      "test 0.9707446808510807\n",
      "train 0.9783996994742944\n"
     ]
    }
   ],
   "source": [
    "model = KNeighborsClassifier()\n",
    "model=model.fit(X_train,y_train)\n",
    "print('test',accuracy_score(y_test,model.predict(X_test)))\n",
    "print('train',accuracy_score(y_train,model.predict(X_train)))"
   ]
  },
  {
   "cell_type": "markdown",
   "metadata": {
    "id": "tnFqs-Ij4CuX"
   },
   "source": [
    "Теперь посчитайте долю правильных ответов по каждому классу. Напишите вычисления этих долей самостоятельно. \n"
   ]
  },
  {
   "cell_type": "code",
   "execution_count": 1041,
   "metadata": {},
   "outputs": [
    {
     "name": "stdout",
     "output_type": "stream",
     "text": [
      "0.06861702127659575 0.902127659574468 0.9707446808510638\n"
     ]
    }
   ],
   "source": [
    "y_pred=model.predict(X_test)\n",
    "no=0\n",
    "yes=0\n",
    "for i in range(y_test.shape[0]):\n",
    "    if((y_test[i]==1)&(y_pred[i]==1)):\n",
    "        yes+=1\n",
    "    elif((y_test[i]==0)&(y_pred[i]==0)):\n",
    "       no+=1\n",
    "print(yes/y_test.shape[0],no/y_test.shape[0],yes/y_test.shape[0]+no/y_test.shape[0])"
   ]
  },
  {
   "cell_type": "markdown",
   "metadata": {},
   "source": [
    "\n",
    "Сравните результаты. Одинаково ли хорошо предсказан каждый класс? Сделайте выводы."
   ]
  },
  {
   "cell_type": "markdown",
   "metadata": {
    "id": "w5Sdk2yZ4R-9"
   },
   "source": [
    "Результат того, что объект является пульсаром около 7% от всех ответов"
   ]
  },
  {
   "cell_type": "markdown",
   "metadata": {
    "id": "b-_iN9OFEQyC"
   },
   "source": [
    "Подберите оптимальное число соседей с использованием метрики accuracy. Сделайте выводы."
   ]
  },
  {
   "cell_type": "code",
   "execution_count": 1039,
   "metadata": {
    "id": "2jRW_fLVEyIE"
   },
   "outputs": [
    {
     "name": "stdout",
     "output_type": "stream",
     "text": [
      "4\n"
     ]
    }
   ],
   "source": [
    "ks = np.arange(1, 51, 2)  # различные значения k\n",
    "\n",
    "# Создание и обучение моделей:\n",
    "models = [KNeighborsClassifier(n_neighbors=k) for k in ks]  # массив моделей, элемент - одна модель\n",
    "models = [a.fit(X_train,y_train) for a in models]\n",
    "scores = [ accuracy_score(y_test, elem.predict(X_test) ) for elem in models]\n",
    "print(np.argmax(scores)+1)"
   ]
  },
  {
   "cell_type": "markdown",
   "metadata": {},
   "source": [
    "В данной задаче мы нашли оптимальное число соседей, а также определили долю правильных ответов, является ли объект пульсаром или нет."
   ]
  },
  {
   "cell_type": "markdown",
   "metadata": {
    "id": "afdUl0rbYzqz"
   },
   "source": [
    "Дополнительно можно почитать о классификации пульсаров, например, в <a target=\"_blank\" href=\"https://medium.com/duke-ai-society-blog/classifying-pulsar-stars-using-ai-techniques-d2be70c0f691\">этой статье</a>."
   ]
  }
 ],
 "metadata": {
  "colab": {
   "collapsed_sections": [],
   "name": "Регрессия пропуски.ipynb\"",
   "provenance": []
  },
  "kernelspec": {
   "display_name": "Python 3",
   "language": "python",
   "name": "python3"
  },
  "language_info": {
   "codemirror_mode": {
    "name": "ipython",
    "version": 3
   },
   "file_extension": ".py",
   "mimetype": "text/x-python",
   "name": "python",
   "nbconvert_exporter": "python",
   "pygments_lexer": "ipython3",
   "version": "3.9.1"
  }
 },
 "nbformat": 4,
 "nbformat_minor": 1
}
